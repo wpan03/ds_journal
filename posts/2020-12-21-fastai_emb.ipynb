{
 "cells": [
  {
   "cell_type": "raw",
   "metadata": {},
   "source": [
    "---\n",
    "aliases:\n",
    "- /2020/12/21/fastai_emb\n",
    "author: Martin Pan\n",
    "badges: true\n",
    "branch: master\n",
    "date: '2020-12-21'\n",
    "output-file: 2020-12-21-fastai_emb.html\n",
    "title: Entity Embedding in fastai 2\n",
    "toc: true\n",
    "\n",
    "---\n",
    "\n"
   ]
  },
  {
   "cell_type": "markdown",
   "metadata": {
    "id": "g7f0k92sQJTb"
   },
   "source": [
    "This post aims to introduce how to use fastai v2 to implement entity embedding for categorical variables in tabular data. Entity embedding is a powerful technique that can sometimes boost the performance of various machine learning methods and reveal the intrinsic properties of categorical variables. See this [paper](https://arxiv.org/abs/1604.06737) and this [post](https://www.fast.ai/2018/04/29/categorical-embeddings/) for more details."
   ]
  },
  {
   "cell_type": "code",
   "execution_count": 1,
   "metadata": {
    "id": "zUeeABfbGkai"
   },
   "outputs": [],
   "source": [
    "#| include: false\n",
    "%%capture\n",
    "!pip3 install fastai --upgrade"
   ]
  },
  {
   "cell_type": "code",
   "execution_count": 2,
   "metadata": {
    "id": "k806fBRPGwCq"
   },
   "outputs": [],
   "source": [
    "#| include: false\n",
    "def check_fastai_version():\n",
    "  import fastai\n",
    "  assert fastai.__version__ >= '2.0'"
   ]
  },
  {
   "cell_type": "code",
   "execution_count": 3,
   "metadata": {
    "id": "znjW3ljXGx1F"
   },
   "outputs": [],
   "source": [
    "#| include: false\n",
    "check_fastai_version()"
   ]
  },
  {
   "cell_type": "code",
   "execution_count": 4,
   "metadata": {
    "id": "6YSU5Co_GyKV"
   },
   "outputs": [],
   "source": [
    "import seaborn as sns\n",
    "from fastai.tabular.all import *"
   ]
  },
  {
   "cell_type": "code",
   "execution_count": 5,
   "metadata": {
    "id": "i-AJxBCpMYbw"
   },
   "outputs": [],
   "source": [
    "#| include: false\n",
    "set_seed(36)"
   ]
  },
  {
   "cell_type": "markdown",
   "metadata": {
    "id": "nfXd5ebyJ-OS"
   },
   "source": [
    "## Get Data"
   ]
  },
  {
   "cell_type": "code",
   "execution_count": 6,
   "metadata": {
    "id": "nw8rtrDZHAOI"
   },
   "outputs": [],
   "source": [
    "#| include: false\n",
    "DOWNLOAD_ROOT = \"https://raw.githubusercontent.com/ageron/handson-ml2/master/\"\n",
    "HOUSING_URL = DOWNLOAD_ROOT + \"datasets/housing/housing.tgz\""
   ]
  },
  {
   "cell_type": "code",
   "execution_count": 7,
   "metadata": {
    "colab": {
     "base_uri": "https://localhost:8080/",
     "height": 17
    },
    "id": "OevvYatOH97m",
    "outputId": "3bfe8f41-da24-4f7e-f788-ff25bc24b8ef"
   },
   "outputs": [
    {
     "data": {
      "text/html": [
       ""
      ],
      "text/plain": [
       "<IPython.core.display.HTML object>"
      ]
     },
     "metadata": {
      "tags": []
     },
     "output_type": "display_data"
    }
   ],
   "source": [
    "#| include: false\n",
    "download_data(HOUSING_URL, fname='housing.tgz')\n",
    "file_extract('housing.tgz')"
   ]
  },
  {
   "cell_type": "markdown",
   "metadata": {
    "id": "YT17PzBPRRq7"
   },
   "source": [
    "We will use the California housing dataset for this post. We want to develop a model to predict the median_house_value based on other variables in the dataset. The following code shows the first 5 rows of the dataset."
   ]
  },
  {
   "cell_type": "code",
   "execution_count": 8,
   "metadata": {
    "colab": {
     "base_uri": "https://localhost:8080/",
     "height": 204
    },
    "id": "lMrzRzG_JrMm",
    "outputId": "84ee1df7-dda3-4a45-98e1-b2bff2212c03"
   },
   "outputs": [
    {
     "data": {
      "text/html": [
       "<div>\n",
       "<style scoped>\n",
       "    .dataframe tbody tr th:only-of-type {\n",
       "        vertical-align: middle;\n",
       "    }\n",
       "\n",
       "    .dataframe tbody tr th {\n",
       "        vertical-align: top;\n",
       "    }\n",
       "\n",
       "    .dataframe thead th {\n",
       "        text-align: right;\n",
       "    }\n",
       "</style>\n",
       "<table border=\"1\" class=\"dataframe\">\n",
       "  <thead>\n",
       "    <tr style=\"text-align: right;\">\n",
       "      <th></th>\n",
       "      <th>longitude</th>\n",
       "      <th>latitude</th>\n",
       "      <th>housing_median_age</th>\n",
       "      <th>total_rooms</th>\n",
       "      <th>total_bedrooms</th>\n",
       "      <th>population</th>\n",
       "      <th>households</th>\n",
       "      <th>median_income</th>\n",
       "      <th>median_house_value</th>\n",
       "      <th>ocean_proximity</th>\n",
       "    </tr>\n",
       "  </thead>\n",
       "  <tbody>\n",
       "    <tr>\n",
       "      <th>0</th>\n",
       "      <td>-122.23</td>\n",
       "      <td>37.88</td>\n",
       "      <td>41.0</td>\n",
       "      <td>880.0</td>\n",
       "      <td>129.0</td>\n",
       "      <td>322.0</td>\n",
       "      <td>126.0</td>\n",
       "      <td>8.3252</td>\n",
       "      <td>452600.0</td>\n",
       "      <td>NEAR BAY</td>\n",
       "    </tr>\n",
       "    <tr>\n",
       "      <th>1</th>\n",
       "      <td>-122.22</td>\n",
       "      <td>37.86</td>\n",
       "      <td>21.0</td>\n",
       "      <td>7099.0</td>\n",
       "      <td>1106.0</td>\n",
       "      <td>2401.0</td>\n",
       "      <td>1138.0</td>\n",
       "      <td>8.3014</td>\n",
       "      <td>358500.0</td>\n",
       "      <td>NEAR BAY</td>\n",
       "    </tr>\n",
       "    <tr>\n",
       "      <th>2</th>\n",
       "      <td>-122.24</td>\n",
       "      <td>37.85</td>\n",
       "      <td>52.0</td>\n",
       "      <td>1467.0</td>\n",
       "      <td>190.0</td>\n",
       "      <td>496.0</td>\n",
       "      <td>177.0</td>\n",
       "      <td>7.2574</td>\n",
       "      <td>352100.0</td>\n",
       "      <td>NEAR BAY</td>\n",
       "    </tr>\n",
       "    <tr>\n",
       "      <th>3</th>\n",
       "      <td>-122.25</td>\n",
       "      <td>37.85</td>\n",
       "      <td>52.0</td>\n",
       "      <td>1274.0</td>\n",
       "      <td>235.0</td>\n",
       "      <td>558.0</td>\n",
       "      <td>219.0</td>\n",
       "      <td>5.6431</td>\n",
       "      <td>341300.0</td>\n",
       "      <td>NEAR BAY</td>\n",
       "    </tr>\n",
       "    <tr>\n",
       "      <th>4</th>\n",
       "      <td>-122.25</td>\n",
       "      <td>37.85</td>\n",
       "      <td>52.0</td>\n",
       "      <td>1627.0</td>\n",
       "      <td>280.0</td>\n",
       "      <td>565.0</td>\n",
       "      <td>259.0</td>\n",
       "      <td>3.8462</td>\n",
       "      <td>342200.0</td>\n",
       "      <td>NEAR BAY</td>\n",
       "    </tr>\n",
       "  </tbody>\n",
       "</table>\n",
       "</div>"
      ],
      "text/plain": [
       "   longitude  latitude  ...  median_house_value  ocean_proximity\n",
       "0    -122.23     37.88  ...            452600.0         NEAR BAY\n",
       "1    -122.22     37.86  ...            358500.0         NEAR BAY\n",
       "2    -122.24     37.85  ...            352100.0         NEAR BAY\n",
       "3    -122.25     37.85  ...            341300.0         NEAR BAY\n",
       "4    -122.25     37.85  ...            342200.0         NEAR BAY\n",
       "\n",
       "[5 rows x 10 columns]"
      ]
     },
     "execution_count": 8,
     "metadata": {
      "tags": []
     },
     "output_type": "execute_result"
    }
   ],
   "source": [
    "df = pd.read_csv('housing.csv')\n",
    "df.head()"
   ]
  },
  {
   "cell_type": "markdown",
   "metadata": {
    "id": "BjMRx5y7KFgb"
   },
   "source": [
    "## Preprocess Data"
   ]
  },
  {
   "cell_type": "markdown",
   "metadata": {
    "id": "PQ9dTkF9Ru_8"
   },
   "source": [
    "We rely on various functionalities provided by fastai to preprocess the data. We will not discuss them in detail here. For more information, please check this [tutorial](https://docs.fast.ai/tutorial.tabular). One important note is that when dealing with categorical variables, instead of using one-hot encoding, we map each category into a distinct integer."
   ]
  },
  {
   "cell_type": "code",
   "execution_count": 9,
   "metadata": {
    "colab": {
     "base_uri": "https://localhost:8080/"
    },
    "id": "Lm6Q-QlcSKd5",
    "outputId": "839ca01e-5942-4fe1-efea-0997c4a2a3aa"
   },
   "outputs": [
    {
     "name": "stdout",
     "output_type": "stream",
     "text": [
      "cont_cat_split(df, max_card=20, dep_var=None)\n",
      "Helper function that returns column names of cont and cat variables from given `df`.\n",
      "\n",
      "To get a prettier result with hyperlinks to source code and documentation, install nbdev: pip install nbdev\n"
     ]
    }
   ],
   "source": [
    "#| include: false\n",
    "doc(cont_cat_split)"
   ]
  },
  {
   "cell_type": "code",
   "execution_count": 10,
   "metadata": {
    "id": "-mOkuvfBKsKs"
   },
   "outputs": [],
   "source": [
    "cont, cat = cont_cat_split(df, dep_var = 'median_house_value')"
   ]
  },
  {
   "cell_type": "code",
   "execution_count": 11,
   "metadata": {
    "id": "NewOoQfmKo4d"
   },
   "outputs": [],
   "source": [
    "splits = RandomSplitter(valid_pct=0.2)(range_of(df))"
   ]
  },
  {
   "cell_type": "code",
   "execution_count": 12,
   "metadata": {
    "id": "RY5i5VpxKBs8"
   },
   "outputs": [],
   "source": [
    "to = TabularPandas(df, procs=[Categorify, FillMissing,Normalize],\n",
    "                   cat_names = cat,\n",
    "                   cont_names = cont,\n",
    "                   y_names='median_house_value',\n",
    "                   splits=splits)"
   ]
  },
  {
   "cell_type": "code",
   "execution_count": 13,
   "metadata": {
    "id": "Z8E4iKvAKq-A"
   },
   "outputs": [],
   "source": [
    "dls = to.dataloaders(bs=64)"
   ]
  },
  {
   "cell_type": "code",
   "execution_count": 14,
   "metadata": {
    "colab": {
     "base_uri": "https://localhost:8080/",
     "height": 359
    },
    "id": "-rWKOEH9LAIP",
    "outputId": "7b236298-5091-4617-c45d-ef1cba986dbe"
   },
   "outputs": [
    {
     "data": {
      "text/html": [
       "<table border=\"1\" class=\"dataframe\">\n",
       "  <thead>\n",
       "    <tr style=\"text-align: right;\">\n",
       "      <th></th>\n",
       "      <th>ocean_proximity</th>\n",
       "      <th>total_bedrooms_na</th>\n",
       "      <th>longitude</th>\n",
       "      <th>latitude</th>\n",
       "      <th>housing_median_age</th>\n",
       "      <th>total_rooms</th>\n",
       "      <th>total_bedrooms</th>\n",
       "      <th>population</th>\n",
       "      <th>households</th>\n",
       "      <th>median_income</th>\n",
       "      <th>median_house_value</th>\n",
       "    </tr>\n",
       "  </thead>\n",
       "  <tbody>\n",
       "    <tr>\n",
       "      <th>0</th>\n",
       "      <td>NEAR OCEAN</td>\n",
       "      <td>False</td>\n",
       "      <td>-118.360001</td>\n",
       "      <td>33.790001</td>\n",
       "      <td>34.000000</td>\n",
       "      <td>5166.000080</td>\n",
       "      <td>703.999998</td>\n",
       "      <td>2071.000018</td>\n",
       "      <td>668.000003</td>\n",
       "      <td>8.3609</td>\n",
       "      <td>500001.0</td>\n",
       "    </tr>\n",
       "    <tr>\n",
       "      <th>1</th>\n",
       "      <td>&lt;1H OCEAN</td>\n",
       "      <td>False</td>\n",
       "      <td>-118.389999</td>\n",
       "      <td>34.189999</td>\n",
       "      <td>41.000000</td>\n",
       "      <td>1999.999969</td>\n",
       "      <td>485.000002</td>\n",
       "      <td>1439.000000</td>\n",
       "      <td>461.000001</td>\n",
       "      <td>3.0491</td>\n",
       "      <td>192000.0</td>\n",
       "    </tr>\n",
       "    <tr>\n",
       "      <th>2</th>\n",
       "      <td>NEAR OCEAN</td>\n",
       "      <td>False</td>\n",
       "      <td>-122.489998</td>\n",
       "      <td>37.740002</td>\n",
       "      <td>52.000001</td>\n",
       "      <td>2442.000001</td>\n",
       "      <td>448.999997</td>\n",
       "      <td>1187.999996</td>\n",
       "      <td>436.000002</td>\n",
       "      <td>4.3909</td>\n",
       "      <td>317700.0</td>\n",
       "    </tr>\n",
       "    <tr>\n",
       "      <th>3</th>\n",
       "      <td>&lt;1H OCEAN</td>\n",
       "      <td>False</td>\n",
       "      <td>-118.250000</td>\n",
       "      <td>33.930000</td>\n",
       "      <td>42.000000</td>\n",
       "      <td>818.999971</td>\n",
       "      <td>232.999988</td>\n",
       "      <td>899.000006</td>\n",
       "      <td>228.000002</td>\n",
       "      <td>1.1346</td>\n",
       "      <td>85400.0</td>\n",
       "    </tr>\n",
       "    <tr>\n",
       "      <th>4</th>\n",
       "      <td>&lt;1H OCEAN</td>\n",
       "      <td>False</td>\n",
       "      <td>-117.940002</td>\n",
       "      <td>34.080002</td>\n",
       "      <td>35.000000</td>\n",
       "      <td>2392.999992</td>\n",
       "      <td>417.000002</td>\n",
       "      <td>1336.000000</td>\n",
       "      <td>418.000000</td>\n",
       "      <td>4.8700</td>\n",
       "      <td>187700.0</td>\n",
       "    </tr>\n",
       "    <tr>\n",
       "      <th>5</th>\n",
       "      <td>INLAND</td>\n",
       "      <td>False</td>\n",
       "      <td>-121.300003</td>\n",
       "      <td>37.919998</td>\n",
       "      <td>28.000000</td>\n",
       "      <td>3307.999980</td>\n",
       "      <td>765.999992</td>\n",
       "      <td>3201.000057</td>\n",
       "      <td>719.999996</td>\n",
       "      <td>1.7694</td>\n",
       "      <td>73900.0</td>\n",
       "    </tr>\n",
       "    <tr>\n",
       "      <th>6</th>\n",
       "      <td>&lt;1H OCEAN</td>\n",
       "      <td>False</td>\n",
       "      <td>-118.339996</td>\n",
       "      <td>33.979999</td>\n",
       "      <td>40.000000</td>\n",
       "      <td>2108.000009</td>\n",
       "      <td>526.000000</td>\n",
       "      <td>1921.999997</td>\n",
       "      <td>543.999999</td>\n",
       "      <td>3.1630</td>\n",
       "      <td>137800.0</td>\n",
       "    </tr>\n",
       "    <tr>\n",
       "      <th>7</th>\n",
       "      <td>NEAR OCEAN</td>\n",
       "      <td>False</td>\n",
       "      <td>-117.019997</td>\n",
       "      <td>32.740002</td>\n",
       "      <td>12.000000</td>\n",
       "      <td>3300.999974</td>\n",
       "      <td>962.999995</td>\n",
       "      <td>1999.999999</td>\n",
       "      <td>878.999991</td>\n",
       "      <td>1.8594</td>\n",
       "      <td>119200.0</td>\n",
       "    </tr>\n",
       "    <tr>\n",
       "      <th>8</th>\n",
       "      <td>INLAND</td>\n",
       "      <td>False</td>\n",
       "      <td>-122.949997</td>\n",
       "      <td>40.669998</td>\n",
       "      <td>17.000000</td>\n",
       "      <td>1498.000017</td>\n",
       "      <td>331.000000</td>\n",
       "      <td>574.000003</td>\n",
       "      <td>241.999992</td>\n",
       "      <td>2.0268</td>\n",
       "      <td>94200.0</td>\n",
       "    </tr>\n",
       "    <tr>\n",
       "      <th>9</th>\n",
       "      <td>&lt;1H OCEAN</td>\n",
       "      <td>False</td>\n",
       "      <td>-121.989998</td>\n",
       "      <td>37.270000</td>\n",
       "      <td>21.000000</td>\n",
       "      <td>1214.000022</td>\n",
       "      <td>192.000001</td>\n",
       "      <td>499.999997</td>\n",
       "      <td>184.999993</td>\n",
       "      <td>7.5980</td>\n",
       "      <td>347800.0</td>\n",
       "    </tr>\n",
       "  </tbody>\n",
       "</table>"
      ],
      "text/plain": [
       "<IPython.core.display.HTML object>"
      ]
     },
     "metadata": {
      "tags": []
     },
     "output_type": "display_data"
    }
   ],
   "source": [
    "#| include: false\n",
    "dls.show_batch()"
   ]
  },
  {
   "cell_type": "markdown",
   "metadata": {
    "id": "C4ehOcKZO0RA"
   },
   "source": [
    "## Train Model"
   ]
  },
  {
   "cell_type": "markdown",
   "metadata": {
    "id": "C60qd3iJS_xK"
   },
   "source": [
    "We will train a deep learning model to predict the median housing value and thus get the trained embedding for categorical variables. Again, see this [tutorial](https://docs.fast.ai/tutorial.tabular) for details about the meaning of the codes here."
   ]
  },
  {
   "cell_type": "code",
   "execution_count": 15,
   "metadata": {
    "id": "lUZrofjVPJhC"
   },
   "outputs": [],
   "source": [
    "learn = tabular_learner(dls, metrics=rmse)"
   ]
  },
  {
   "cell_type": "code",
   "execution_count": 16,
   "metadata": {
    "id": "WKieGLagPfGK"
   },
   "outputs": [],
   "source": [
    "early_stop_cb = EarlyStoppingCallback(patience=2)"
   ]
  },
  {
   "cell_type": "code",
   "execution_count": 17,
   "metadata": {
    "colab": {
     "base_uri": "https://localhost:8080/",
     "height": 359
    },
    "id": "0dsCgFNqLA6W",
    "outputId": "68282692-f5b4-4997-fd17-d3b8287be3ce"
   },
   "outputs": [
    {
     "data": {
      "text/html": [
       "<table border=\"1\" class=\"dataframe\">\n",
       "  <thead>\n",
       "    <tr style=\"text-align: left;\">\n",
       "      <th>epoch</th>\n",
       "      <th>train_loss</th>\n",
       "      <th>valid_loss</th>\n",
       "      <th>_rmse</th>\n",
       "      <th>time</th>\n",
       "    </tr>\n",
       "  </thead>\n",
       "  <tbody>\n",
       "    <tr>\n",
       "      <td>0</td>\n",
       "      <td>55994937344.000000</td>\n",
       "      <td>56636186624.000000</td>\n",
       "      <td>237983.578125</td>\n",
       "      <td>00:04</td>\n",
       "    </tr>\n",
       "    <tr>\n",
       "      <td>1</td>\n",
       "      <td>56567816192.000000</td>\n",
       "      <td>56058937344.000000</td>\n",
       "      <td>236767.671875</td>\n",
       "      <td>00:04</td>\n",
       "    </tr>\n",
       "    <tr>\n",
       "      <td>2</td>\n",
       "      <td>52564221952.000000</td>\n",
       "      <td>52214001664.000000</td>\n",
       "      <td>228503.843750</td>\n",
       "      <td>00:03</td>\n",
       "    </tr>\n",
       "    <tr>\n",
       "      <td>3</td>\n",
       "      <td>45972250624.000000</td>\n",
       "      <td>46276349952.000000</td>\n",
       "      <td>215119.375000</td>\n",
       "      <td>00:03</td>\n",
       "    </tr>\n",
       "    <tr>\n",
       "      <td>4</td>\n",
       "      <td>37385846784.000000</td>\n",
       "      <td>37008117760.000000</td>\n",
       "      <td>192374.937500</td>\n",
       "      <td>00:03</td>\n",
       "    </tr>\n",
       "    <tr>\n",
       "      <td>5</td>\n",
       "      <td>31154010112.000000</td>\n",
       "      <td>30351321088.000000</td>\n",
       "      <td>174216.312500</td>\n",
       "      <td>00:03</td>\n",
       "    </tr>\n",
       "    <tr>\n",
       "      <td>6</td>\n",
       "      <td>24364992512.000000</td>\n",
       "      <td>23757260800.000000</td>\n",
       "      <td>154133.906250</td>\n",
       "      <td>00:03</td>\n",
       "    </tr>\n",
       "    <tr>\n",
       "      <td>7</td>\n",
       "      <td>22229555200.000000</td>\n",
       "      <td>21549965312.000000</td>\n",
       "      <td>146799.031250</td>\n",
       "      <td>00:03</td>\n",
       "    </tr>\n",
       "    <tr>\n",
       "      <td>8</td>\n",
       "      <td>20496922624.000000</td>\n",
       "      <td>21110308864.000000</td>\n",
       "      <td>145293.875000</td>\n",
       "      <td>00:03</td>\n",
       "    </tr>\n",
       "    <tr>\n",
       "      <td>9</td>\n",
       "      <td>20571899904.000000</td>\n",
       "      <td>20511488000.000000</td>\n",
       "      <td>143218.312500</td>\n",
       "      <td>00:03</td>\n",
       "    </tr>\n",
       "  </tbody>\n",
       "</table>"
      ],
      "text/plain": [
       "<IPython.core.display.HTML object>"
      ]
     },
     "metadata": {
      "tags": []
     },
     "output_type": "display_data"
    }
   ],
   "source": [
    "#collapse-output\n",
    "learn.fit_one_cycle(10, cbs=early_stop_cb)"
   ]
  },
  {
   "cell_type": "markdown",
   "metadata": {
    "id": "U-KyI-BJDXAq"
   },
   "source": [
    "## Get Embedding"
   ]
  },
  {
   "cell_type": "markdown",
   "metadata": {
    "id": "B_SFmOF2UJza"
   },
   "source": [
    "We will retrieve the trained embedding matrix from the model."
   ]
  },
  {
   "cell_type": "code",
   "execution_count": 18,
   "metadata": {
    "id": "EQx66kKDRaX7"
   },
   "outputs": [],
   "source": [
    "embs = [param for param in learn.model.embeds.parameters()]"
   ]
  },
  {
   "cell_type": "markdown",
   "metadata": {
    "id": "sQ3oWQCFUPq0"
   },
   "source": [
    "The list has two elements and each element represents an embedding matrix for a categorical variable."
   ]
  },
  {
   "cell_type": "code",
   "execution_count": 19,
   "metadata": {
    "colab": {
     "base_uri": "https://localhost:8080/"
    },
    "id": "qrcXx2XkRm7a",
    "outputId": "d7cf3f1f-fff7-4ad7-8a3d-f45363b0ac09"
   },
   "outputs": [
    {
     "data": {
      "text/plain": [
       "2"
      ]
     },
     "execution_count": 19,
     "metadata": {
      "tags": []
     },
     "output_type": "execute_result"
    }
   ],
   "source": [
    "len(embs)"
   ]
  },
  {
   "cell_type": "markdown",
   "metadata": {
    "id": "n6YZiRbBUbDH"
   },
   "source": [
    "To check what each element corresponds to, we can use the `cat_names` attributes from `TabularPandas`. The list indicates that the first element in `embs` is the embedding matrix for the variable ocean_proximity."
   ]
  },
  {
   "cell_type": "code",
   "execution_count": 20,
   "metadata": {
    "colab": {
     "base_uri": "https://localhost:8080/"
    },
    "id": "Ttx7SRLSBfMV",
    "outputId": "5a47df84-a6f1-4698-ffe0-fddeb8af0a10"
   },
   "outputs": [
    {
     "data": {
      "text/plain": [
       "(#2) ['ocean_proximity','total_bedrooms_na']"
      ]
     },
     "execution_count": 20,
     "metadata": {
      "tags": []
     },
     "output_type": "execute_result"
    }
   ],
   "source": [
    "to.cat_names"
   ]
  },
  {
   "cell_type": "markdown",
   "metadata": {
    "id": "nKTsaDqJVG8p"
   },
   "source": [
    "Let's see this matrix. Note that we convert it from a tensor array to a numpy array to make the operation later easier."
   ]
  },
  {
   "cell_type": "code",
   "execution_count": 21,
   "metadata": {
    "colab": {
     "base_uri": "https://localhost:8080/"
    },
    "id": "09tkW7Q0B3gK",
    "outputId": "921847ae-35af-4e80-e1bc-d7ebcca794dc"
   },
   "outputs": [
    {
     "data": {
      "text/plain": [
       "array([[ 0.00074246,  0.01322438, -0.00539126,  0.00066858],\n",
       "       [-0.01550745, -0.02467075,  0.01956671, -0.01148492],\n",
       "       [ 0.24266721,  0.35117084, -0.35875005,  0.36369336],\n",
       "       [-0.05629548, -0.06088502,  0.08677642, -0.10355063],\n",
       "       [-0.01115109, -0.02015582,  0.01277605, -0.00476734],\n",
       "       [-0.01796132, -0.02396758,  0.02242134, -0.0143294 ]],\n",
       "      dtype=float32)"
      ]
     },
     "execution_count": 21,
     "metadata": {
      "tags": []
     },
     "output_type": "execute_result"
    }
   ],
   "source": [
    "ocean_emb = embs[0].detach().numpy()\n",
    "ocean_emb"
   ]
  },
  {
   "cell_type": "markdown",
   "metadata": {
    "id": "mT0A2m3MVeVp"
   },
   "source": [
    "Each row in the matrix above corresponds to one category in the categorical variable. The categories for ocean_proximity are the following."
   ]
  },
  {
   "cell_type": "code",
   "execution_count": 22,
   "metadata": {
    "colab": {
     "base_uri": "https://localhost:8080/"
    },
    "id": "SCdmVX8ISYUJ",
    "outputId": "be81e434-0f8a-41f5-b3ca-2c00bf195351"
   },
   "outputs": [
    {
     "data": {
      "text/plain": [
       "['#na#', '<1H OCEAN', 'INLAND', 'ISLAND', 'NEAR BAY', 'NEAR OCEAN']"
      ]
     },
     "execution_count": 22,
     "metadata": {
      "tags": []
     },
     "output_type": "execute_result"
    }
   ],
   "source": [
    "cat = to.procs.categorify\n",
    "ocean_cat = cat['ocean_proximity']\n",
    "ocean_cat"
   ]
  },
  {
   "cell_type": "markdown",
   "metadata": {
    "id": "fBVVQnxJV4g-"
   },
   "source": [
    "We can use the `o2i` attribute to see how each category is mapped into an integer. The integer corresponds to the row in the embedding matrix."
   ]
  },
  {
   "cell_type": "code",
   "execution_count": 23,
   "metadata": {
    "colab": {
     "base_uri": "https://localhost:8080/"
    },
    "id": "YGLriIQlAoXW",
    "outputId": "4207dc60-fbad-41c0-ba06-3dd00a0f4878"
   },
   "outputs": [
    {
     "data": {
      "text/plain": [
       "defaultdict(int,\n",
       "            {'#na#': 0,\n",
       "             '<1H OCEAN': 1,\n",
       "             'INLAND': 2,\n",
       "             'ISLAND': 3,\n",
       "             'NEAR BAY': 4,\n",
       "             'NEAR OCEAN': 5})"
      ]
     },
     "execution_count": 23,
     "metadata": {
      "tags": []
     },
     "output_type": "execute_result"
    }
   ],
   "source": [
    "ocean_cat.o2i"
   ]
  },
  {
   "cell_type": "markdown",
   "metadata": {
    "id": "SU07tsIsWpal"
   },
   "source": [
    "For example, the embedding for 'NEAR BAY' is:"
   ]
  },
  {
   "cell_type": "code",
   "execution_count": 24,
   "metadata": {
    "colab": {
     "base_uri": "https://localhost:8080/"
    },
    "id": "acuSuom2WpIk",
    "outputId": "0b6e2b39-02c6-4ff5-e2e7-ba8933e3a98a"
   },
   "outputs": [
    {
     "data": {
      "text/plain": [
       "array([-0.01115109, -0.02015582,  0.01277605, -0.00476734], dtype=float32)"
      ]
     },
     "execution_count": 24,
     "metadata": {
      "tags": []
     },
     "output_type": "execute_result"
    }
   ],
   "source": [
    "ocean_emb[4]"
   ]
  },
  {
   "cell_type": "markdown",
   "metadata": {
    "id": "inB1pwcWWzIf"
   },
   "source": [
    "Let's create a dictionary to map each category to its corresponding embedding."
   ]
  },
  {
   "cell_type": "code",
   "execution_count": 25,
   "metadata": {
    "id": "oWEqnk0GCGHg"
   },
   "outputs": [],
   "source": [
    "ocean_emb_map = {ocean_cat[i]:ocean_emb[i] for i in range(len(ocean_cat))}"
   ]
  },
  {
   "cell_type": "code",
   "execution_count": 26,
   "metadata": {
    "colab": {
     "base_uri": "https://localhost:8080/"
    },
    "id": "ymFkvWqUCIyi",
    "outputId": "d6f32cc1-e783-4a0d-e0a7-392e256d28f4"
   },
   "outputs": [
    {
     "data": {
      "text/plain": [
       "{'#na#': array([ 0.00074246,  0.01322438, -0.00539126,  0.00066858], dtype=float32),\n",
       " '<1H OCEAN': array([-0.01550745, -0.02467075,  0.01956671, -0.01148492], dtype=float32),\n",
       " 'INLAND': array([ 0.24266721,  0.35117084, -0.35875005,  0.36369336], dtype=float32),\n",
       " 'ISLAND': array([-0.05629548, -0.06088502,  0.08677642, -0.10355063], dtype=float32),\n",
       " 'NEAR BAY': array([-0.01115109, -0.02015582,  0.01277605, -0.00476734], dtype=float32),\n",
       " 'NEAR OCEAN': array([-0.01796132, -0.02396758,  0.02242134, -0.0143294 ], dtype=float32)}"
      ]
     },
     "execution_count": 26,
     "metadata": {
      "tags": []
     },
     "output_type": "execute_result"
    }
   ],
   "source": [
    "#| include: false\n",
    "ocean_emb_map"
   ]
  },
  {
   "cell_type": "markdown",
   "metadata": {
    "id": "6Ja2nioKKz5L"
   },
   "source": [
    "## Apply Embedding"
   ]
  },
  {
   "cell_type": "markdown",
   "metadata": {
    "id": "jqZzMgI_W5L-"
   },
   "source": [
    "This section shows how we can apply the embedding to the original dataset; that is, change the category variable to numeric vectors."
   ]
  },
  {
   "cell_type": "code",
   "execution_count": 27,
   "metadata": {
    "id": "gF5fYCZYKyVN"
   },
   "outputs": [],
   "source": [
    "emb_dim = ocean_emb.shape[1]"
   ]
  },
  {
   "cell_type": "code",
   "execution_count": 28,
   "metadata": {
    "colab": {
     "base_uri": "https://localhost:8080/",
     "height": 204
    },
    "id": "WEJTEm0KK4XE",
    "outputId": "c5b8e279-194d-40f2-9ea1-7bd90d581c2f"
   },
   "outputs": [
    {
     "data": {
      "text/html": [
       "<div>\n",
       "<style scoped>\n",
       "    .dataframe tbody tr th:only-of-type {\n",
       "        vertical-align: middle;\n",
       "    }\n",
       "\n",
       "    .dataframe tbody tr th {\n",
       "        vertical-align: top;\n",
       "    }\n",
       "\n",
       "    .dataframe thead th {\n",
       "        text-align: right;\n",
       "    }\n",
       "</style>\n",
       "<table border=\"1\" class=\"dataframe\">\n",
       "  <thead>\n",
       "    <tr style=\"text-align: right;\">\n",
       "      <th></th>\n",
       "      <th>ocean_emb_1</th>\n",
       "      <th>ocean_emb_2</th>\n",
       "      <th>ocean_emb_3</th>\n",
       "      <th>ocean_emb_4</th>\n",
       "    </tr>\n",
       "  </thead>\n",
       "  <tbody>\n",
       "    <tr>\n",
       "      <th>0</th>\n",
       "      <td>-0.011151</td>\n",
       "      <td>-0.020156</td>\n",
       "      <td>0.012776</td>\n",
       "      <td>-0.004767</td>\n",
       "    </tr>\n",
       "    <tr>\n",
       "      <th>1</th>\n",
       "      <td>-0.011151</td>\n",
       "      <td>-0.020156</td>\n",
       "      <td>0.012776</td>\n",
       "      <td>-0.004767</td>\n",
       "    </tr>\n",
       "    <tr>\n",
       "      <th>2</th>\n",
       "      <td>-0.011151</td>\n",
       "      <td>-0.020156</td>\n",
       "      <td>0.012776</td>\n",
       "      <td>-0.004767</td>\n",
       "    </tr>\n",
       "    <tr>\n",
       "      <th>3</th>\n",
       "      <td>-0.011151</td>\n",
       "      <td>-0.020156</td>\n",
       "      <td>0.012776</td>\n",
       "      <td>-0.004767</td>\n",
       "    </tr>\n",
       "    <tr>\n",
       "      <th>4</th>\n",
       "      <td>-0.011151</td>\n",
       "      <td>-0.020156</td>\n",
       "      <td>0.012776</td>\n",
       "      <td>-0.004767</td>\n",
       "    </tr>\n",
       "  </tbody>\n",
       "</table>\n",
       "</div>"
      ],
      "text/plain": [
       "   ocean_emb_1  ocean_emb_2  ocean_emb_3  ocean_emb_4\n",
       "0    -0.011151    -0.020156     0.012776    -0.004767\n",
       "1    -0.011151    -0.020156     0.012776    -0.004767\n",
       "2    -0.011151    -0.020156     0.012776    -0.004767\n",
       "3    -0.011151    -0.020156     0.012776    -0.004767\n",
       "4    -0.011151    -0.020156     0.012776    -0.004767"
      ]
     },
     "execution_count": 28,
     "metadata": {
      "tags": []
     },
     "output_type": "execute_result"
    }
   ],
   "source": [
    "col_name = [f'ocean_emb_{i}' for i in range(1,emb_dim+1)]\n",
    "df_emb = pd.DataFrame(df['ocean_proximity'].map(ocean_emb_map).to_list(), columns=col_name)\n",
    "df_emb.head()"
   ]
  },
  {
   "cell_type": "code",
   "execution_count": 29,
   "metadata": {
    "id": "8LN3R45RK6oR"
   },
   "outputs": [],
   "source": [
    "df_new = pd.concat([df, df_emb],axis=1)"
   ]
  },
  {
   "cell_type": "code",
   "execution_count": 30,
   "metadata": {
    "colab": {
     "base_uri": "https://localhost:8080/",
     "height": 224
    },
    "id": "V7WnHLRbK8lm",
    "outputId": "7135e7ab-7346-4556-89bb-b5035a344fca"
   },
   "outputs": [
    {
     "data": {
      "text/html": [
       "<div>\n",
       "<style scoped>\n",
       "    .dataframe tbody tr th:only-of-type {\n",
       "        vertical-align: middle;\n",
       "    }\n",
       "\n",
       "    .dataframe tbody tr th {\n",
       "        vertical-align: top;\n",
       "    }\n",
       "\n",
       "    .dataframe thead th {\n",
       "        text-align: right;\n",
       "    }\n",
       "</style>\n",
       "<table border=\"1\" class=\"dataframe\">\n",
       "  <thead>\n",
       "    <tr style=\"text-align: right;\">\n",
       "      <th></th>\n",
       "      <th>longitude</th>\n",
       "      <th>latitude</th>\n",
       "      <th>housing_median_age</th>\n",
       "      <th>total_rooms</th>\n",
       "      <th>total_bedrooms</th>\n",
       "      <th>population</th>\n",
       "      <th>households</th>\n",
       "      <th>median_income</th>\n",
       "      <th>median_house_value</th>\n",
       "      <th>ocean_proximity</th>\n",
       "      <th>ocean_emb_1</th>\n",
       "      <th>ocean_emb_2</th>\n",
       "      <th>ocean_emb_3</th>\n",
       "      <th>ocean_emb_4</th>\n",
       "    </tr>\n",
       "  </thead>\n",
       "  <tbody>\n",
       "    <tr>\n",
       "      <th>0</th>\n",
       "      <td>-122.23</td>\n",
       "      <td>37.88</td>\n",
       "      <td>41.0</td>\n",
       "      <td>880.0</td>\n",
       "      <td>129.0</td>\n",
       "      <td>322.0</td>\n",
       "      <td>126.0</td>\n",
       "      <td>8.3252</td>\n",
       "      <td>452600.0</td>\n",
       "      <td>NEAR BAY</td>\n",
       "      <td>-0.011151</td>\n",
       "      <td>-0.020156</td>\n",
       "      <td>0.012776</td>\n",
       "      <td>-0.004767</td>\n",
       "    </tr>\n",
       "    <tr>\n",
       "      <th>1</th>\n",
       "      <td>-122.22</td>\n",
       "      <td>37.86</td>\n",
       "      <td>21.0</td>\n",
       "      <td>7099.0</td>\n",
       "      <td>1106.0</td>\n",
       "      <td>2401.0</td>\n",
       "      <td>1138.0</td>\n",
       "      <td>8.3014</td>\n",
       "      <td>358500.0</td>\n",
       "      <td>NEAR BAY</td>\n",
       "      <td>-0.011151</td>\n",
       "      <td>-0.020156</td>\n",
       "      <td>0.012776</td>\n",
       "      <td>-0.004767</td>\n",
       "    </tr>\n",
       "    <tr>\n",
       "      <th>2</th>\n",
       "      <td>-122.24</td>\n",
       "      <td>37.85</td>\n",
       "      <td>52.0</td>\n",
       "      <td>1467.0</td>\n",
       "      <td>190.0</td>\n",
       "      <td>496.0</td>\n",
       "      <td>177.0</td>\n",
       "      <td>7.2574</td>\n",
       "      <td>352100.0</td>\n",
       "      <td>NEAR BAY</td>\n",
       "      <td>-0.011151</td>\n",
       "      <td>-0.020156</td>\n",
       "      <td>0.012776</td>\n",
       "      <td>-0.004767</td>\n",
       "    </tr>\n",
       "    <tr>\n",
       "      <th>3</th>\n",
       "      <td>-122.25</td>\n",
       "      <td>37.85</td>\n",
       "      <td>52.0</td>\n",
       "      <td>1274.0</td>\n",
       "      <td>235.0</td>\n",
       "      <td>558.0</td>\n",
       "      <td>219.0</td>\n",
       "      <td>5.6431</td>\n",
       "      <td>341300.0</td>\n",
       "      <td>NEAR BAY</td>\n",
       "      <td>-0.011151</td>\n",
       "      <td>-0.020156</td>\n",
       "      <td>0.012776</td>\n",
       "      <td>-0.004767</td>\n",
       "    </tr>\n",
       "    <tr>\n",
       "      <th>4</th>\n",
       "      <td>-122.25</td>\n",
       "      <td>37.85</td>\n",
       "      <td>52.0</td>\n",
       "      <td>1627.0</td>\n",
       "      <td>280.0</td>\n",
       "      <td>565.0</td>\n",
       "      <td>259.0</td>\n",
       "      <td>3.8462</td>\n",
       "      <td>342200.0</td>\n",
       "      <td>NEAR BAY</td>\n",
       "      <td>-0.011151</td>\n",
       "      <td>-0.020156</td>\n",
       "      <td>0.012776</td>\n",
       "      <td>-0.004767</td>\n",
       "    </tr>\n",
       "  </tbody>\n",
       "</table>\n",
       "</div>"
      ],
      "text/plain": [
       "   longitude  latitude  ...  ocean_emb_3  ocean_emb_4\n",
       "0    -122.23     37.88  ...     0.012776    -0.004767\n",
       "1    -122.22     37.86  ...     0.012776    -0.004767\n",
       "2    -122.24     37.85  ...     0.012776    -0.004767\n",
       "3    -122.25     37.85  ...     0.012776    -0.004767\n",
       "4    -122.25     37.85  ...     0.012776    -0.004767\n",
       "\n",
       "[5 rows x 14 columns]"
      ]
     },
     "execution_count": 30,
     "metadata": {
      "tags": []
     },
     "output_type": "execute_result"
    }
   ],
   "source": [
    "#| include: false\n",
    "df_new.head()"
   ]
  },
  {
   "cell_type": "markdown",
   "metadata": {
    "id": "_uk5UcvaDpu7"
   },
   "source": [
    "## Visualize Embedding"
   ]
  },
  {
   "cell_type": "markdown",
   "metadata": {
    "id": "SWZso6dpXMxp"
   },
   "source": [
    "Another way to explore the embedding matrix is to visualize it and see what it learns. We will use principle component analysis(PCA) to visualize the embedding."
   ]
  },
  {
   "cell_type": "code",
   "execution_count": 31,
   "metadata": {
    "id": "rn46hetSDv07"
   },
   "outputs": [],
   "source": [
    "from sklearn import decomposition\n",
    "pca = decomposition.PCA(n_components=2)\n",
    "pca_result = pca.fit_transform(ocean_emb)"
   ]
  },
  {
   "cell_type": "code",
   "execution_count": 32,
   "metadata": {
    "colab": {
     "base_uri": "https://localhost:8080/",
     "height": 279
    },
    "id": "S7OGaeuXGrJp",
    "outputId": "b56a24ec-e0e4-47b7-bee9-4f7fcbb0df3d"
   },
   "outputs": [
    {
     "data": {
      "image/png": "[encoded data removed]",
      "text/plain": [
       "<Figure size 432x288 with 1 Axes>"
      ]
     },
     "metadata": {
      "needs_background": "light",
      "tags": []
     },
     "output_type": "display_data"
    }
   ],
   "source": [
    "df_visualize = pd.DataFrame({'name':ocean_cat, 'dim1':pca_result[:,0], 'dim2':\n",
    "                             pca_result[:,1]})\n",
    "sns.scatterplot(data=df_visualize, x='dim1', y='dim2', hue='name');"
   ]
  },
  {
   "cell_type": "markdown",
   "metadata": {
    "id": "JmjPo1iwXsW8"
   },
   "source": [
    "If we compare this visualization to the map of these houses above, we will find that the embedding matrix does provide some useful insights. In particular, we see that the relative location of the category INLAND does correspond to the inland area in the map. The code to make the following map comes from this [notebook](https://github.com/ageron/handson-ml2/blob/master/02_end_to_end_machine_learning_project.ipynb)."
   ]
  },
  {
   "cell_type": "code",
   "execution_count": 33,
   "metadata": {
    "colab": {
     "base_uri": "https://localhost:8080/"
    },
    "id": "slPRyEW1GJXX",
    "outputId": "15175c50-342d-41d9-d42f-064225d8acf1"
   },
   "outputs": [
    {
     "name": "stdout",
     "output_type": "stream",
     "text": [
      "Downloading california.png\n"
     ]
    },
    {
     "data": {
      "text/plain": [
       "('./images/end_to_end_project/california.png',\n",
       " <http.client.HTTPMessage at 0x7fdcd28383c8>)"
      ]
     },
     "execution_count": 33,
     "metadata": {
      "tags": []
     },
     "output_type": "execute_result"
    }
   ],
   "source": [
    "#| include: false\n",
    "PROJECT_ROOT_DIR = \".\"\n",
    "images_path = os.path.join(PROJECT_ROOT_DIR, \"images\", \"end_to_end_project\")\n",
    "os.makedirs(images_path, exist_ok=True)\n",
    "DOWNLOAD_ROOT = \"https://raw.githubusercontent.com/ageron/handson-ml2/master/\"\n",
    "filename = \"california.png\"\n",
    "print(\"Downloading\", filename)\n",
    "url = DOWNLOAD_ROOT + \"images/end_to_end_project/\" + filename\n",
    "urllib.request.urlretrieve(url, os.path.join(images_path, filename))"
   ]
  },
  {
   "cell_type": "code",
   "execution_count": 34,
   "metadata": {
    "colab": {
     "base_uri": "https://localhost:8080/",
     "height": 452
    },
    "id": "BRvPGBc3GEMC",
    "outputId": "4691a695-1576-4b5e-c1e1-aae92c3eca28"
   },
   "outputs": [
    {
     "data": {
      "image/png": "[encoded data removed]",
      "text/plain": [
       "<Figure size 720x504 with 2 Axes>"
      ]
     },
     "metadata": {
      "needs_background": "light",
      "tags": []
     },
     "output_type": "display_data"
    }
   ],
   "source": [
    "#| echo: false\n",
    "import matplotlib.image as mpimg\n",
    "california_img=mpimg.imread(os.path.join(images_path, filename))\n",
    "ax = df.plot(kind=\"scatter\", x=\"longitude\", y=\"latitude\", figsize=(10,7),\n",
    "                       s=df['population']/100, label=\"Population\",\n",
    "                       c=\"median_house_value\", cmap=plt.get_cmap(\"jet\"),\n",
    "                       colorbar=False, alpha=0.4,\n",
    "                      )\n",
    "plt.imshow(california_img, extent=[-124.55, -113.80, 32.45, 42.05], alpha=0.5,\n",
    "           cmap=plt.get_cmap(\"jet\"))\n",
    "plt.ylabel(\"Latitude\", fontsize=14)\n",
    "plt.xlabel(\"Longitude\", fontsize=14)\n",
    "\n",
    "prices = df[\"median_house_value\"]\n",
    "tick_values = np.linspace(prices.min(), prices.max(), 11)\n",
    "cbar = plt.colorbar(ticks=tick_values/prices.max())\n",
    "cbar.ax.set_yticklabels([\"$%dk\"%(round(v/1000)) for v in tick_values], fontsize=14)\n",
    "cbar.set_label('Median House Value', fontsize=16)\n",
    "\n",
    "plt.legend(fontsize=16)\n",
    "plt.show()"
   ]
  },
  {
   "cell_type": "markdown",
   "metadata": {
    "id": "RPCRLINhYOFy"
   },
   "source": [
    "## Ending Note"
   ]
  },
  {
   "cell_type": "markdown",
   "metadata": {
    "id": "hiM2W4GWYP0L"
   },
   "source": [
    "This is the end of this post. You can see the full code by clicking to the **View on Github** or **Open in Colab** tab at the top this post."
   ]
  }
 ],
 "metadata": {
  "colab": {
   "authorship_tag": "ABX9TyNdXr8rK7A1QowtwcyM3TfI",
   "collapsed_sections": [],
   "name": "2020-12-21-fastai_emb.ipynb",
   "provenance": []
  },
  "kernelspec": {
   "display_name": "Python 3",
   "name": "python3"
  }
 },
 "nbformat": 4,
 "nbformat_minor": 0
}
